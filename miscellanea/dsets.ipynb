{
 "cells": [
  {
   "cell_type": "code",
   "execution_count": 20,
   "id": "109d9ace-fbfc-4a21-bf7d-ae0cb667f5a3",
   "metadata": {},
   "outputs": [
    {
     "name": "stderr",
     "output_type": "stream",
     "text": [
      "Reusing dataset russian_super_glue (/root/.cache/huggingface/datasets/russian_super_glue/terra/0.0.1/6fcadbfc1d8f0298b2f01ff277093772efe9e1b98f3c0df8ab5f511b3b9e13c9)\n"
     ]
    },
    {
     "data": {
      "application/vnd.jupyter.widget-view+json": {
       "model_id": "da9be66c541f45b495470050bf9cc6e7",
       "version_major": 2,
       "version_minor": 0
      },
      "text/plain": [
       "  0%|          | 0/3 [00:00<?, ?it/s]"
      ]
     },
     "metadata": {},
     "output_type": "display_data"
    },
    {
     "name": "stderr",
     "output_type": "stream",
     "text": [
      "Reusing dataset russian_super_glue (/root/.cache/huggingface/datasets/russian_super_glue/rcb/0.0.1/6fcadbfc1d8f0298b2f01ff277093772efe9e1b98f3c0df8ab5f511b3b9e13c9)\n"
     ]
    },
    {
     "data": {
      "application/vnd.jupyter.widget-view+json": {
       "model_id": "b822e57dc6884573b143a7846f8ba7de",
       "version_major": 2,
       "version_minor": 0
      },
      "text/plain": [
       "  0%|          | 0/3 [00:00<?, ?it/s]"
      ]
     },
     "metadata": {},
     "output_type": "display_data"
    },
    {
     "name": "stderr",
     "output_type": "stream",
     "text": [
      "Reusing dataset russian_super_glue (/root/.cache/huggingface/datasets/russian_super_glue/parus/0.0.1/6fcadbfc1d8f0298b2f01ff277093772efe9e1b98f3c0df8ab5f511b3b9e13c9)\n"
     ]
    },
    {
     "data": {
      "application/vnd.jupyter.widget-view+json": {
       "model_id": "ad2ee1d868cc4de0a1fb88c5589acc4e",
       "version_major": 2,
       "version_minor": 0
      },
      "text/plain": [
       "  0%|          | 0/3 [00:00<?, ?it/s]"
      ]
     },
     "metadata": {},
     "output_type": "display_data"
    }
   ],
   "source": [
    "from datasets import load_dataset\n",
    "import pickle\n",
    "\n",
    "ru_super_glue_terra = load_dataset(\"russian_super_glue\", 'terra')\n",
    "ru_super_glue_rcb = load_dataset(\"russian_super_glue\", 'rcb')\n",
    "ru_super_glue_parus = load_dataset(\"russian_super_glue\", 'parus')\n",
    "# ru_super_glue_terra = load_dataset(\"russian_super_glue\", 'terra')\n",
    "# ru_super_glue_terra = load_dataset(\"russian_super_glue\", 'terra')"
   ]
  },
  {
   "cell_type": "code",
   "execution_count": 23,
   "id": "e847515e-2045-407f-b83a-ec950802d5f3",
   "metadata": {},
   "outputs": [],
   "source": [
    "premises = ru_super_glue_rcb['test']['premise']\n",
    "hypos = ru_super_glue_rcb['test']['hypothesis']\n",
    "texts = []\n",
    "for i in range(len(hypos)):\n",
    "    texts.append(f\"{premises[i]} [SEP] {hypos[i]}\")\n",
    "with open('./BookTransformers/dsets/rcb_test_texts.pkl', 'wb') as f:\n",
    "    pickle.dump(texts, f)\n",
    "# with open('./BookTransformers/dsets/rcb_val_label.pkl', 'wb') as f:\n",
    "#     pickle.dump(ru_super_glue_rcb['validation']['label'], f)"
   ]
  },
  {
   "cell_type": "code",
   "execution_count": 18,
   "id": "588e36ec-e0c9-4e4b-9f7e-f417eee80c66",
   "metadata": {},
   "outputs": [],
   "source": [
    "premises = ru_super_glue_terra['test']['premise']\n",
    "hypos = ru_super_glue_terra['test']['hypothesis']\n",
    "train_texts = []\n",
    "for i in range(len(hypos)):\n",
    "    train_texts.append(f\"{premises[i]} [SEP] {hypos[i]}\")\n",
    "with open('./BookTransformers/dsets/terra_test_texts.pkl', 'wb') as f:\n",
    "    pickle.dump(train_texts, f)\n",
    "with open('./BookTransformers/dsets/terra_val_label.pkl', 'wb') as f:\n",
    "    pickle.dump(ru_super_glue_terra['validation']['label'], f)"
   ]
  },
  {
   "cell_type": "code",
   "execution_count": 28,
   "id": "71814165-15ac-4dbc-bc71-eab281389a6f",
   "metadata": {},
   "outputs": [],
   "source": [
    "premises = ru_super_glue_parus['test']['premise']\n",
    "first_choice = ru_super_glue_parus['test']['choice1']\n",
    "second_choice = ru_super_glue_parus['test']['choice2']\n",
    "questions = ru_super_glue_parus['test']['question']\n",
    "texts = []\n",
    "for i in range(len(premises)):\n",
    "    texts.append(f\"{premises[i]} [SEP] {questions[i]} [SEP] {first_choice[i]} [SEP] {second_choice[i]}\")\n",
    "with open('./BookTransformers/dsets/parus_test_texts.pkl', 'wb') as f:\n",
    "    pickle.dump(texts, f)\n",
    "# with open('./BookTransformers/dsets/parus_val_label.pkl', 'wb') as f:\n",
    "#     pickle.dump(ru_super_glue_parus['validation']['label'], f)"
   ]
  },
  {
   "cell_type": "code",
   "execution_count": null,
   "id": "cdd8d82c-f521-4fb5-a3d3-aab064e8f6bd",
   "metadata": {},
   "outputs": [],
   "source": []
  }
 ],
 "metadata": {
  "kernelspec": {
   "display_name": "Python 3 (ipykernel)",
   "language": "python",
   "name": "python3"
  },
  "language_info": {
   "codemirror_mode": {
    "name": "ipython",
    "version": 3
   },
   "file_extension": ".py",
   "mimetype": "text/x-python",
   "name": "python",
   "nbconvert_exporter": "python",
   "pygments_lexer": "ipython3",
   "version": "3.9.7"
  },
  "widgets": {
   "application/vnd.jupyter.widget-state+json": {
    "state": {
     "00e28ec204284cf08d4730bfd1569ace": {
      "model_module": "@jupyter-widgets/controls",
      "model_module_version": "1.5.0",
      "model_name": "HTMLModel",
      "state": {
       "layout": "IPY_MODEL_94b5c96688c244688b9d7027673bc7c7",
       "style": "IPY_MODEL_517240e4193e432d9f07c1c4cbc53108",
       "value": " 3/3 [00:00&lt;00:00, 202.95it/s]"
      }
     },
     "039086a52e40445daf23d81e43485703": {
      "model_module": "@jupyter-widgets/base",
      "model_module_version": "1.2.0",
      "model_name": "LayoutModel",
      "state": {}
     },
     "03c1b69c7db245049f924e256a98b58f": {
      "model_module": "@jupyter-widgets/controls",
      "model_module_version": "1.5.0",
      "model_name": "ProgressStyleModel",
      "state": {
       "description_width": ""
      }
     },
     "0792a247682c47579d1ec45497a6970f": {
      "model_module": "@jupyter-widgets/controls",
      "model_module_version": "1.5.0",
      "model_name": "HTMLModel",
      "state": {
       "layout": "IPY_MODEL_495005f1cba5497c925af8623ecc8aa2",
       "style": "IPY_MODEL_d1970d1ae564457f859402009b18deb5",
       "value": "Downloading builder script: "
      }
     },
     "07ded42bd091423fb769b1b404be6062": {
      "model_module": "@jupyter-widgets/controls",
      "model_module_version": "1.5.0",
      "model_name": "DescriptionStyleModel",
      "state": {
       "description_width": ""
      }
     },
     "0a82a48a87ba419599d86fe4deb7288f": {
      "model_module": "@jupyter-widgets/base",
      "model_module_version": "1.2.0",
      "model_name": "LayoutModel",
      "state": {}
     },
     "0b76231751534ff7893faf73838eb4c4": {
      "model_module": "@jupyter-widgets/controls",
      "model_module_version": "1.5.0",
      "model_name": "FloatProgressModel",
      "state": {
       "bar_style": "success",
       "layout": "IPY_MODEL_e21ce0d983cd492ba397dad8473db80c",
       "max": 3,
       "style": "IPY_MODEL_5ed8d3fcc862447ab8004896e8a5c69a",
       "value": 3
      }
     },
     "0d9719dff41a48a6b9ed1a1c316a23b6": {
      "model_module": "@jupyter-widgets/controls",
      "model_module_version": "1.5.0",
      "model_name": "HBoxModel",
      "state": {
       "children": [
        "IPY_MODEL_9aef507770864b3cb5da556dc8031f76",
        "IPY_MODEL_437d7f39ebd344fda39675edf897790a",
        "IPY_MODEL_e35ed6701226409bb44216143aa2f369"
       ],
       "layout": "IPY_MODEL_eae8fcb070ce4cafb6031532d1342b36"
      }
     },
     "0fae2f0ec84247ba889bd1652f4ffdf5": {
      "model_module": "@jupyter-widgets/controls",
      "model_module_version": "1.5.0",
      "model_name": "DescriptionStyleModel",
      "state": {
       "description_width": ""
      }
     },
     "12b1b170dae44c98a066e416746d9049": {
      "model_module": "@jupyter-widgets/controls",
      "model_module_version": "1.5.0",
      "model_name": "HTMLModel",
      "state": {
       "layout": "IPY_MODEL_97dd8406862349fcb92a7ab1cf7b8794",
       "style": "IPY_MODEL_29d70ab6cf8d4305ba072f48c2bcdd6a",
       "value": "100%"
      }
     },
     "16ab193575b146b2a8fa6b693d51a981": {
      "model_module": "@jupyter-widgets/controls",
      "model_module_version": "1.5.0",
      "model_name": "DescriptionStyleModel",
      "state": {
       "description_width": ""
      }
     },
     "16fa455ccd0f4d3aa7091f65ce24c4bf": {
      "model_module": "@jupyter-widgets/controls",
      "model_module_version": "1.5.0",
      "model_name": "FloatProgressModel",
      "state": {
       "bar_style": "success",
       "layout": "IPY_MODEL_372feb2a82d441aba35e7aade929ccd2",
       "max": 3,
       "style": "IPY_MODEL_8820ee4e101843e78772c4376bce4104",
       "value": 3
      }
     },
     "17efc8a317f74a93ad308f25c1be1265": {
      "model_module": "@jupyter-widgets/base",
      "model_module_version": "1.2.0",
      "model_name": "LayoutModel",
      "state": {}
     },
     "1d3ae9397e644e6a90a4d50daba5deb4": {
      "model_module": "@jupyter-widgets/base",
      "model_module_version": "1.2.0",
      "model_name": "LayoutModel",
      "state": {}
     },
     "233a55a2897d474ea2fe0b879c051920": {
      "model_module": "@jupyter-widgets/controls",
      "model_module_version": "1.5.0",
      "model_name": "HTMLModel",
      "state": {
       "layout": "IPY_MODEL_7703aea141424b6880ce1a0779a2c8a6",
       "style": "IPY_MODEL_74593a5be3914c4e88b5279a5ec272c0",
       "value": " 3/3 [00:00&lt;00:00, 206.43it/s]"
      }
     },
     "29d70ab6cf8d4305ba072f48c2bcdd6a": {
      "model_module": "@jupyter-widgets/controls",
      "model_module_version": "1.5.0",
      "model_name": "DescriptionStyleModel",
      "state": {
       "description_width": ""
      }
     },
     "2b022e1e02cd48e8aeae57d6885fab7c": {
      "model_module": "@jupyter-widgets/controls",
      "model_module_version": "1.5.0",
      "model_name": "FloatProgressModel",
      "state": {
       "bar_style": "success",
       "layout": "IPY_MODEL_5c16c80b4f854b25bd37378ffa757077",
       "max": 3,
       "style": "IPY_MODEL_87428814355a427d97c0a977a733d578",
       "value": 3
      }
     },
     "30012c7c8ee5496dbe2b274c045d8052": {
      "model_module": "@jupyter-widgets/controls",
      "model_module_version": "1.5.0",
      "model_name": "HTMLModel",
      "state": {
       "layout": "IPY_MODEL_e215b909089d4c2597bdd2131d400850",
       "style": "IPY_MODEL_16ab193575b146b2a8fa6b693d51a981",
       "value": "100%"
      }
     },
     "31ef8f53711b4535a4c8702481c5c955": {
      "model_module": "@jupyter-widgets/controls",
      "model_module_version": "1.5.0",
      "model_name": "HBoxModel",
      "state": {
       "children": [
        "IPY_MODEL_0792a247682c47579d1ec45497a6970f",
        "IPY_MODEL_9952cad7eb3644a2909e2126989fa985",
        "IPY_MODEL_e67e7534c6a44794b6fbafeab75a10b3"
       ],
       "layout": "IPY_MODEL_777ebe7f2c1b4bbe9f87efee6da4525c"
      }
     },
     "33f9e946bd6b4acfb3c1c58e2a10b9aa": {
      "model_module": "@jupyter-widgets/base",
      "model_module_version": "1.2.0",
      "model_name": "LayoutModel",
      "state": {}
     },
     "372feb2a82d441aba35e7aade929ccd2": {
      "model_module": "@jupyter-widgets/base",
      "model_module_version": "1.2.0",
      "model_name": "LayoutModel",
      "state": {}
     },
     "437d7f39ebd344fda39675edf897790a": {
      "model_module": "@jupyter-widgets/controls",
      "model_module_version": "1.5.0",
      "model_name": "FloatProgressModel",
      "state": {
       "bar_style": "success",
       "layout": "IPY_MODEL_93943f316dab407f95c8eca5381ce463",
       "max": 6238,
       "style": "IPY_MODEL_afcee63fc57e4f1e8fb92534f9bea14b",
       "value": 6238
      }
     },
     "45e9b834e0aa415398b80dcdc78c948a": {
      "model_module": "@jupyter-widgets/controls",
      "model_module_version": "1.5.0",
      "model_name": "DescriptionStyleModel",
      "state": {
       "description_width": ""
      }
     },
     "48374ba692034e2484c741f1610b3337": {
      "model_module": "@jupyter-widgets/base",
      "model_module_version": "1.2.0",
      "model_name": "LayoutModel",
      "state": {}
     },
     "489853bb40104fadb7bee3b73a340d36": {
      "model_module": "@jupyter-widgets/controls",
      "model_module_version": "1.5.0",
      "model_name": "DescriptionStyleModel",
      "state": {
       "description_width": ""
      }
     },
     "495005f1cba5497c925af8623ecc8aa2": {
      "model_module": "@jupyter-widgets/base",
      "model_module_version": "1.2.0",
      "model_name": "LayoutModel",
      "state": {}
     },
     "496dffd0151b4b96bfd5c76ad02a9b74": {
      "model_module": "@jupyter-widgets/controls",
      "model_module_version": "1.5.0",
      "model_name": "HTMLModel",
      "state": {
       "layout": "IPY_MODEL_7fee54c2745240efb66b8429b0c6ab56",
       "style": "IPY_MODEL_0fae2f0ec84247ba889bd1652f4ffdf5",
       "value": "100%"
      }
     },
     "509fd94ac3224aa696a7d91ba922e6d6": {
      "model_module": "@jupyter-widgets/controls",
      "model_module_version": "1.5.0",
      "model_name": "ProgressStyleModel",
      "state": {
       "description_width": ""
      }
     },
     "517240e4193e432d9f07c1c4cbc53108": {
      "model_module": "@jupyter-widgets/controls",
      "model_module_version": "1.5.0",
      "model_name": "DescriptionStyleModel",
      "state": {
       "description_width": ""
      }
     },
     "5ae7fa202d6b4cdfb30714bfdca4c384": {
      "model_module": "@jupyter-widgets/base",
      "model_module_version": "1.2.0",
      "model_name": "LayoutModel",
      "state": {}
     },
     "5c16c80b4f854b25bd37378ffa757077": {
      "model_module": "@jupyter-widgets/base",
      "model_module_version": "1.2.0",
      "model_name": "LayoutModel",
      "state": {}
     },
     "5ed8d3fcc862447ab8004896e8a5c69a": {
      "model_module": "@jupyter-widgets/controls",
      "model_module_version": "1.5.0",
      "model_name": "ProgressStyleModel",
      "state": {
       "description_width": ""
      }
     },
     "5f22e0cbbc7b4cbd97832682f9357f81": {
      "model_module": "@jupyter-widgets/base",
      "model_module_version": "1.2.0",
      "model_name": "LayoutModel",
      "state": {}
     },
     "6d437df4300b42f8a368abcaa33fb446": {
      "model_module": "@jupyter-widgets/controls",
      "model_module_version": "1.5.0",
      "model_name": "HTMLModel",
      "state": {
       "layout": "IPY_MODEL_7d2f07bc26b645c4b75186a8422bb4e2",
       "style": "IPY_MODEL_489853bb40104fadb7bee3b73a340d36",
       "value": "100%"
      }
     },
     "715326441a1b46aab0dbd41f3df0cc0c": {
      "model_module": "@jupyter-widgets/controls",
      "model_module_version": "1.5.0",
      "model_name": "DescriptionStyleModel",
      "state": {
       "description_width": ""
      }
     },
     "74593a5be3914c4e88b5279a5ec272c0": {
      "model_module": "@jupyter-widgets/controls",
      "model_module_version": "1.5.0",
      "model_name": "DescriptionStyleModel",
      "state": {
       "description_width": ""
      }
     },
     "7703aea141424b6880ce1a0779a2c8a6": {
      "model_module": "@jupyter-widgets/base",
      "model_module_version": "1.2.0",
      "model_name": "LayoutModel",
      "state": {}
     },
     "777ebe7f2c1b4bbe9f87efee6da4525c": {
      "model_module": "@jupyter-widgets/base",
      "model_module_version": "1.2.0",
      "model_name": "LayoutModel",
      "state": {}
     },
     "7b5820d7f0614711bf6aeb5a058ac0c8": {
      "model_module": "@jupyter-widgets/base",
      "model_module_version": "1.2.0",
      "model_name": "LayoutModel",
      "state": {}
     },
     "7d2f07bc26b645c4b75186a8422bb4e2": {
      "model_module": "@jupyter-widgets/base",
      "model_module_version": "1.2.0",
      "model_name": "LayoutModel",
      "state": {}
     },
     "7fee54c2745240efb66b8429b0c6ab56": {
      "model_module": "@jupyter-widgets/base",
      "model_module_version": "1.2.0",
      "model_name": "LayoutModel",
      "state": {}
     },
     "86069ae98a584603b7c4d68c9fd5cfa6": {
      "model_module": "@jupyter-widgets/base",
      "model_module_version": "1.2.0",
      "model_name": "LayoutModel",
      "state": {}
     },
     "87428814355a427d97c0a977a733d578": {
      "model_module": "@jupyter-widgets/controls",
      "model_module_version": "1.5.0",
      "model_name": "ProgressStyleModel",
      "state": {
       "description_width": ""
      }
     },
     "8820ee4e101843e78772c4376bce4104": {
      "model_module": "@jupyter-widgets/controls",
      "model_module_version": "1.5.0",
      "model_name": "ProgressStyleModel",
      "state": {
       "description_width": ""
      }
     },
     "93922bd3ad4044cbbb2f75c19c9debcf": {
      "model_module": "@jupyter-widgets/base",
      "model_module_version": "1.2.0",
      "model_name": "LayoutModel",
      "state": {}
     },
     "93943f316dab407f95c8eca5381ce463": {
      "model_module": "@jupyter-widgets/base",
      "model_module_version": "1.2.0",
      "model_name": "LayoutModel",
      "state": {}
     },
     "94b5c96688c244688b9d7027673bc7c7": {
      "model_module": "@jupyter-widgets/base",
      "model_module_version": "1.2.0",
      "model_name": "LayoutModel",
      "state": {}
     },
     "97dd8406862349fcb92a7ab1cf7b8794": {
      "model_module": "@jupyter-widgets/base",
      "model_module_version": "1.2.0",
      "model_name": "LayoutModel",
      "state": {}
     },
     "9952cad7eb3644a2909e2126989fa985": {
      "model_module": "@jupyter-widgets/controls",
      "model_module_version": "1.5.0",
      "model_name": "FloatProgressModel",
      "state": {
       "bar_style": "success",
       "layout": "IPY_MODEL_93922bd3ad4044cbbb2f75c19c9debcf",
       "max": 7173,
       "style": "IPY_MODEL_a9248677ab864de2befd7a1e99cf6014",
       "value": 7173
      }
     },
     "9aef507770864b3cb5da556dc8031f76": {
      "model_module": "@jupyter-widgets/controls",
      "model_module_version": "1.5.0",
      "model_name": "HTMLModel",
      "state": {
       "layout": "IPY_MODEL_d5af3f9c0aeb4338b5191b4f11bf3eff",
       "style": "IPY_MODEL_45e9b834e0aa415398b80dcdc78c948a",
       "value": "Downloading metadata: "
      }
     },
     "a045c623c2394187849f1c9542655c3c": {
      "model_module": "@jupyter-widgets/base",
      "model_module_version": "1.2.0",
      "model_name": "LayoutModel",
      "state": {}
     },
     "a9248677ab864de2befd7a1e99cf6014": {
      "model_module": "@jupyter-widgets/controls",
      "model_module_version": "1.5.0",
      "model_name": "ProgressStyleModel",
      "state": {
       "description_width": ""
      }
     },
     "ad2ee1d868cc4de0a1fb88c5589acc4e": {
      "model_module": "@jupyter-widgets/controls",
      "model_module_version": "1.5.0",
      "model_name": "HBoxModel",
      "state": {
       "children": [
        "IPY_MODEL_6d437df4300b42f8a368abcaa33fb446",
        "IPY_MODEL_fa0275b0574d4e32a13dfea6e0be263d",
        "IPY_MODEL_ee09fa649c0b4c6f9712b12e46dfdbaa"
       ],
       "layout": "IPY_MODEL_48374ba692034e2484c741f1610b3337"
      }
     },
     "afcee63fc57e4f1e8fb92534f9bea14b": {
      "model_module": "@jupyter-widgets/controls",
      "model_module_version": "1.5.0",
      "model_name": "ProgressStyleModel",
      "state": {
       "description_width": ""
      }
     },
     "afe86b0d990a49218ff6db092a84b844": {
      "model_module": "@jupyter-widgets/controls",
      "model_module_version": "1.5.0",
      "model_name": "HTMLModel",
      "state": {
       "layout": "IPY_MODEL_5f22e0cbbc7b4cbd97832682f9357f81",
       "style": "IPY_MODEL_d90ee4a0802c42c79f0fd9159f0c377e",
       "value": " 3/3 [00:00&lt;00:00, 203.06it/s]"
      }
     },
     "b66f74d4f8454925a457fa97aabacaa1": {
      "model_module": "@jupyter-widgets/controls",
      "model_module_version": "1.5.0",
      "model_name": "HTMLModel",
      "state": {
       "layout": "IPY_MODEL_c60a564bf4bb405fb09444d97b15efd8",
       "style": "IPY_MODEL_715326441a1b46aab0dbd41f3df0cc0c",
       "value": "100%"
      }
     },
     "b822e57dc6884573b143a7846f8ba7de": {
      "model_module": "@jupyter-widgets/controls",
      "model_module_version": "1.5.0",
      "model_name": "HBoxModel",
      "state": {
       "children": [
        "IPY_MODEL_b66f74d4f8454925a457fa97aabacaa1",
        "IPY_MODEL_e3dd0de5e9704abbade3717222aaaa56",
        "IPY_MODEL_afe86b0d990a49218ff6db092a84b844"
       ],
       "layout": "IPY_MODEL_1d3ae9397e644e6a90a4d50daba5deb4"
      }
     },
     "be26d0c621bf481fb36931ff43dd90b3": {
      "model_module": "@jupyter-widgets/controls",
      "model_module_version": "1.5.0",
      "model_name": "HBoxModel",
      "state": {
       "children": [
        "IPY_MODEL_496dffd0151b4b96bfd5c76ad02a9b74",
        "IPY_MODEL_2b022e1e02cd48e8aeae57d6885fab7c",
        "IPY_MODEL_fec0c3d6cd08431592e5925028d9d725"
       ],
       "layout": "IPY_MODEL_039086a52e40445daf23d81e43485703"
      }
     },
     "c1244d80a93f46b2a630170a31b122c6": {
      "model_module": "@jupyter-widgets/controls",
      "model_module_version": "1.5.0",
      "model_name": "DescriptionStyleModel",
      "state": {
       "description_width": ""
      }
     },
     "c60a564bf4bb405fb09444d97b15efd8": {
      "model_module": "@jupyter-widgets/base",
      "model_module_version": "1.2.0",
      "model_name": "LayoutModel",
      "state": {}
     },
     "c8418ea1bc864ca1b5b1924529b57976": {
      "model_module": "@jupyter-widgets/controls",
      "model_module_version": "1.5.0",
      "model_name": "DescriptionStyleModel",
      "state": {
       "description_width": ""
      }
     },
     "d1970d1ae564457f859402009b18deb5": {
      "model_module": "@jupyter-widgets/controls",
      "model_module_version": "1.5.0",
      "model_name": "DescriptionStyleModel",
      "state": {
       "description_width": ""
      }
     },
     "d5af3f9c0aeb4338b5191b4f11bf3eff": {
      "model_module": "@jupyter-widgets/base",
      "model_module_version": "1.2.0",
      "model_name": "LayoutModel",
      "state": {}
     },
     "d90ee4a0802c42c79f0fd9159f0c377e": {
      "model_module": "@jupyter-widgets/controls",
      "model_module_version": "1.5.0",
      "model_name": "DescriptionStyleModel",
      "state": {
       "description_width": ""
      }
     },
     "da9be66c541f45b495470050bf9cc6e7": {
      "model_module": "@jupyter-widgets/controls",
      "model_module_version": "1.5.0",
      "model_name": "HBoxModel",
      "state": {
       "children": [
        "IPY_MODEL_30012c7c8ee5496dbe2b274c045d8052",
        "IPY_MODEL_16fa455ccd0f4d3aa7091f65ce24c4bf",
        "IPY_MODEL_00e28ec204284cf08d4730bfd1569ace"
       ],
       "layout": "IPY_MODEL_86069ae98a584603b7c4d68c9fd5cfa6"
      }
     },
     "e215b909089d4c2597bdd2131d400850": {
      "model_module": "@jupyter-widgets/base",
      "model_module_version": "1.2.0",
      "model_name": "LayoutModel",
      "state": {}
     },
     "e21ce0d983cd492ba397dad8473db80c": {
      "model_module": "@jupyter-widgets/base",
      "model_module_version": "1.2.0",
      "model_name": "LayoutModel",
      "state": {}
     },
     "e35ed6701226409bb44216143aa2f369": {
      "model_module": "@jupyter-widgets/controls",
      "model_module_version": "1.5.0",
      "model_name": "HTMLModel",
      "state": {
       "layout": "IPY_MODEL_17efc8a317f74a93ad308f25c1be1265",
       "style": "IPY_MODEL_c8418ea1bc864ca1b5b1924529b57976",
       "value": " 33.6k/? [00:00&lt;00:00, 2.64MB/s]"
      }
     },
     "e3dd0de5e9704abbade3717222aaaa56": {
      "model_module": "@jupyter-widgets/controls",
      "model_module_version": "1.5.0",
      "model_name": "FloatProgressModel",
      "state": {
       "bar_style": "success",
       "layout": "IPY_MODEL_33f9e946bd6b4acfb3c1c58e2a10b9aa",
       "max": 3,
       "style": "IPY_MODEL_509fd94ac3224aa696a7d91ba922e6d6",
       "value": 3
      }
     },
     "e67e7534c6a44794b6fbafeab75a10b3": {
      "model_module": "@jupyter-widgets/controls",
      "model_module_version": "1.5.0",
      "model_name": "HTMLModel",
      "state": {
       "layout": "IPY_MODEL_a045c623c2394187849f1c9542655c3c",
       "style": "IPY_MODEL_07ded42bd091423fb769b1b404be6062",
       "value": " 23.6k/? [00:00&lt;00:00, 1.53MB/s]"
      }
     },
     "e75859a94ff84ef7ba510c379af8fc57": {
      "model_module": "@jupyter-widgets/controls",
      "model_module_version": "1.5.0",
      "model_name": "DescriptionStyleModel",
      "state": {
       "description_width": ""
      }
     },
     "eae8fcb070ce4cafb6031532d1342b36": {
      "model_module": "@jupyter-widgets/base",
      "model_module_version": "1.2.0",
      "model_name": "LayoutModel",
      "state": {}
     },
     "edd0eb9a813d463289903655d080883b": {
      "model_module": "@jupyter-widgets/controls",
      "model_module_version": "1.5.0",
      "model_name": "HBoxModel",
      "state": {
       "children": [
        "IPY_MODEL_12b1b170dae44c98a066e416746d9049",
        "IPY_MODEL_0b76231751534ff7893faf73838eb4c4",
        "IPY_MODEL_233a55a2897d474ea2fe0b879c051920"
       ],
       "layout": "IPY_MODEL_0a82a48a87ba419599d86fe4deb7288f"
      }
     },
     "ee09fa649c0b4c6f9712b12e46dfdbaa": {
      "model_module": "@jupyter-widgets/controls",
      "model_module_version": "1.5.0",
      "model_name": "HTMLModel",
      "state": {
       "layout": "IPY_MODEL_f024e1ea751b45d2a441c7d0c6161cc9",
       "style": "IPY_MODEL_e75859a94ff84ef7ba510c379af8fc57",
       "value": " 3/3 [00:00&lt;00:00, 206.90it/s]"
      }
     },
     "f024e1ea751b45d2a441c7d0c6161cc9": {
      "model_module": "@jupyter-widgets/base",
      "model_module_version": "1.2.0",
      "model_name": "LayoutModel",
      "state": {}
     },
     "fa0275b0574d4e32a13dfea6e0be263d": {
      "model_module": "@jupyter-widgets/controls",
      "model_module_version": "1.5.0",
      "model_name": "FloatProgressModel",
      "state": {
       "bar_style": "success",
       "layout": "IPY_MODEL_5ae7fa202d6b4cdfb30714bfdca4c384",
       "max": 3,
       "style": "IPY_MODEL_03c1b69c7db245049f924e256a98b58f",
       "value": 3
      }
     },
     "fec0c3d6cd08431592e5925028d9d725": {
      "model_module": "@jupyter-widgets/controls",
      "model_module_version": "1.5.0",
      "model_name": "HTMLModel",
      "state": {
       "layout": "IPY_MODEL_7b5820d7f0614711bf6aeb5a058ac0c8",
       "style": "IPY_MODEL_c1244d80a93f46b2a630170a31b122c6",
       "value": " 3/3 [00:00&lt;00:00, 210.37it/s]"
      }
     }
    },
    "version_major": 2,
    "version_minor": 0
   }
  }
 },
 "nbformat": 4,
 "nbformat_minor": 5
}
